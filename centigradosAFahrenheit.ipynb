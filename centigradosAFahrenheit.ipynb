{
  "nbformat": 4,
  "nbformat_minor": 0,
  "metadata": {
    "colab": {
      "provenance": [],
      "authorship_tag": "ABX9TyM+nzYwPM0/Looup4sPCNmX",
      "include_colab_link": true
    },
    "kernelspec": {
      "name": "python3",
      "display_name": "Python 3"
    },
    "language_info": {
      "name": "python"
    }
  },
  "cells": [
    {
      "cell_type": "markdown",
      "metadata": {
        "id": "view-in-github",
        "colab_type": "text"
      },
      "source": [
        "<a href=\"https://colab.research.google.com/github/DSW-47/RedesNeuronales/blob/main/centigradosAFahrenheit.ipynb\" target=\"_parent\"><img src=\"https://colab.research.google.com/assets/colab-badge.svg\" alt=\"Open In Colab\"/></a>"
      ]
    },
    {
      "cell_type": "code",
      "execution_count": null,
      "metadata": {
        "id": "FJnY60Jq-fKi"
      },
      "outputs": [],
      "source": [
        "#Importar librerias\n",
        "import tensorflow as tf #libreria para IA hecha por google\n",
        "import numpy as np #Para trabajar facilmente con arreglos numericos\n"
      ]
    },
    {
      "cell_type": "code",
      "source": [
        " #arreglos para entrenamiento \n",
        "celsius = np.array([-40, -10, 0, 8, 15, 22, 38], dtype=float) #entrada\n",
        "fahrenheit = np.array([-40, 14, 32, 46.4, 59, 71.6, 100.4], dtype=float) #resultados"
      ],
      "metadata": {
        "id": "VypwbiXD_mPS"
      },
      "execution_count": null,
      "outputs": []
    },
    {
      "cell_type": "code",
      "source": [
        "#Se diseña el modelo de red neuronal con keras que permite hacer RNA de manera simple ahorrando código\n",
        "\n",
        "#capa = tf.keras.layers.Dense(units=1, input_shape=[1])\n",
        "#modelo = tf.keras.Sequential([capa])\n",
        "\n",
        "oculta1=tf.keras.layers.Dense(units=3, input_shape=[1]) #Input shape permite ahorrars el tener que declarar la entrada como las otras capas\n",
        "oculta2=tf.keras.layers.Dense(units=3)\n",
        "salida=tf.keras.layers.Dense(units=1)\n",
        "modelo=tf.keras.Sequential([oculta1, oculta2, salida]) #El modelo es para definir las capas y que pueda trabajar"
      ],
      "metadata": {
        "id": "_D765krq_nMs"
      },
      "execution_count": null,
      "outputs": []
    },
    {
      "cell_type": "code",
      "source": [
        "#Definir valores para el aprendizaje\n",
        "modelo.compile(\n",
        "    optimizer=tf.keras.optimizers.Adam(0.1),#tasa de Aprendizaje\n",
        "    loss='mean_squared_error' #Significa que una poca cantidad de errores grandes es peor que una gran cantidad de errores pequeños\n",
        ") "
      ],
      "metadata": {
        "id": "bLhkuHX3AnR8"
      },
      "execution_count": null,
      "outputs": []
    },
    {
      "cell_type": "code",
      "source": [
        "#Función de Entrenamiento\n",
        "print(\"Comenzando entrenamiento...\")\n",
        "historial=modelo.fit(celsius, fahrenheit, epochs=1000, verbose=False) #se indican los datos de entrada, resultados esperados, repeticiones a dar, imprimir\n",
        "print(\"Modelo entrenado!\")"
      ],
      "metadata": {
        "colab": {
          "base_uri": "https://localhost:8080/"
        },
        "id": "Aw0t7gG9BWc2",
        "outputId": "34c3bb37-c00e-4220-8a05-254389232917"
      },
      "execution_count": null,
      "outputs": [
        {
          "output_type": "stream",
          "name": "stdout",
          "text": [
            "Comenzando entrenamiento...\n",
            "Modelo entrenado!\n"
          ]
        }
      ]
    },
    {
      "cell_type": "code",
      "source": [
        "#Gráficar errores\n",
        "import matplotlib.pyplot as plt\n",
        "plt.xlabel(\"# Epoca\")\n",
        "plt.ylabel(\"Magnitud de pérdida\")\n",
        "plt.plot(historial.history[\"loss\"])"
      ],
      "metadata": {
        "colab": {
          "base_uri": "https://localhost:8080/",
          "height": 296
        },
        "id": "W4F-tVlHCdkW",
        "outputId": "88085ead-a419-4048-e8a9-9b2cfc8879b7"
      },
      "execution_count": null,
      "outputs": [
        {
          "output_type": "execute_result",
          "data": {
            "text/plain": [
              "[<matplotlib.lines.Line2D at 0x7f14287b3310>]"
            ]
          },
          "metadata": {},
          "execution_count": 152
        },
        {
          "output_type": "display_data",
          "data": {
            "text/plain": [
              "<Figure size 432x288 with 1 Axes>"
            ],
            "image/png": "[encoded data removed]"
          },
          "metadata": {
            "needs_background": "light"
          }
        }
      ]
    },
    {
      "cell_type": "code",
      "source": [
        "print(\"Hagamos una predicción!\")\n",
        "resultado=modelo.predict([55.0]) #Indicarle valor a intentar predecir\n",
        "print(\"El resultado es \"+str(resultado) + \" fahrenheit!\")"
      ],
      "metadata": {
        "colab": {
          "base_uri": "https://localhost:8080/"
        },
        "id": "zS5IwwopC-6p",
        "outputId": "cec00db7-f681-41fd-9e4d-c75ff828278d"
      },
      "execution_count": null,
      "outputs": [
        {
          "output_type": "stream",
          "name": "stdout",
          "text": [
            "Hagamos una predicción!\n",
            "El resultado es [[131.00002]] fahrenheit!\n"
          ]
        }
      ]
    },
    {
      "cell_type": "code",
      "source": [
        "#Imprime los pesos y los sesgos\n",
        "print (\"Variables internas del modelo\")\n",
        "#print (capa.get_weights())\n",
        "print (oculta1.get_weights())\n",
        "print (oculta2.get_weights())\n",
        "print (salida.get_weights())"
      ],
      "metadata": {
        "colab": {
          "base_uri": "https://localhost:8080/"
        },
        "id": "J-I2nmFBDgQo",
        "outputId": "4fd84661-8d5f-4226-fc32-daf0d16cdfa2"
      },
      "execution_count": null,
      "outputs": [
        {
          "output_type": "stream",
          "name": "stdout",
          "text": [
            "Variables internas del modelo\n",
            "[array([[ 0.1897755 ,  0.15173188, -0.88010967]], dtype=float32), array([-2.6444013,  3.465944 , -3.7112222], dtype=float32)]\n",
            "[array([[ 0.37575272,  1.4415804 , -0.02203508],\n",
            "       [-0.3715147 , -0.7025674 , -1.5800536 ],\n",
            "       [ 0.675355  ,  0.84149176,  0.9299444 ]], dtype=float32), array([-1.9915296, -4.1017823, -4.061031 ], dtype=float32)]\n",
            "[array([[-0.19275416],\n",
            "       [-1.0099744 ],\n",
            "       [-1.0438429 ]], dtype=float32), array([3.589709], dtype=float32)]\n"
          ]
        }
      ]
    }
  ]
}